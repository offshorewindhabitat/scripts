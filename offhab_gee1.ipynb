{
 "cells": [
  {
   "attachments": {},
   "cell_type": "markdown",
   "id": "2572821b",
   "metadata": {},
   "source": [
    "## Setup\n",
    "\n",
    "Using [geemap docker](https://hub.docker.com/r/bkavlak/geemap)\n",
    "\n",
    "```bash\n",
    "# pull\n",
    "docker pull bkavlak/geemap:latest\n",
    "\n",
    "# check\n",
    "docker image ls\n",
    "\n",
    "# run\n",
    "docker run -it --name geemap -p 8888:8888 -p 6006:6006 -v '/Users/bbest/My Drive/projects/offhab/data/_geemap':/geemap/data bkavlak/geemap:latest bash\n",
    "# WARNING: The requested image's platform (linux/amd64) does not match the detected host platform (linux/arm64/v8) and no specific platform was requested\n",
    "```\n",
    "\n",
    "### Shutdown VM\n",
    "\n",
    "```bash\n",
    "docker stop geemap\n",
    "```\n",
    "\n",
    "### Restart VM\n",
    "\n",
    "```bash\n",
    "docker start geemap\n",
    "docker exec -it geemap bash\n",
    "\n",
    "# inside VM\n",
    "jupyter notebook --ip=0.0.0.0 --port=8888 --allow-root\n",
    "# visit displayed URL, eg http://127.0.0.1:8888/?token=4e18b4332bbf0a44267f18e111687c141dc1f15ec191236e\n",
    "```"
   ]
  },
  {
   "cell_type": "markdown",
   "id": "93238455",
   "metadata": {},
   "source": [
    "# Initialize"
   ]
  },
  {
   "cell_type": "code",
   "execution_count": null,
   "id": "418c115f",
   "metadata": {},
   "outputs": [],
   "source": [
    "import ee\n",
    "\n",
    "ee.Initialize()"
   ]
  },
  {
   "cell_type": "code",
   "execution_count": null,
   "id": "75a7ac20",
   "metadata": {},
   "outputs": [],
   "source": [
    "import geemap\n",
    "import pandas as pd\n",
    "import os\n",
    "import time\n",
    "\n",
    "dir_csv = '/geemap/data'\n",
    "\n",
    "# get image of zones\n",
    "im_zones_v1 = ee.Image('projects/ee-offhab/assets/im_zones_v1')\n",
    "\n",
    "# get imagecollection of taxa layers\n",
    "ic_spp = ee.ImageCollection('projects/ee-offhab/assets/lyrs_ds_aphia')\n",
    "\n",
    "# get image_ids\n",
    "im_sp_ids = ic_spp.aggregate_array(\"system:id\").getInfo()"
   ]
  },
  {
   "cell_type": "markdown",
   "id": "4fc11b5b",
   "metadata": {},
   "source": [
    "# Zonal stats per spp with `for` loop"
   ]
  },
  {
   "cell_type": "code",
   "execution_count": null,
   "id": "c2c796e9",
   "metadata": {},
   "outputs": [],
   "source": [
    "t0 = time.time()\n",
    "# iterate over images\n",
    "for i in range(0,20):  # i=1 \n",
    "    im_sp_id = im_sp_ids[i]\n",
    "    im_sp = ee.Image(im_sp_id)\n",
    "\n",
    "    lyr_key = os.path.basename(im_sp_id)\n",
    "    #print(lyr_key) # am_1006979\n",
    "\n",
    "    means_csv = f'{dir_csv}/{lyr_key}.csv'\n",
    "    print(f'{i}: {means_csv}')\n",
    "\n",
    "    im_sp_z = im_sp.addBands(im_zones_v1)\n",
    "    #print(img_z.bandNames().getInfo()) # ['b1', 'b1_1'] # TODO: rename band\n",
    "\n",
    "    # Grouped a mean reducer: change of nightlights by land cover category.\n",
    "    means = im_sp_z.reduceRegion(\n",
    "       reducer = ee.Reducer.mean().group(\n",
    "           groupField = 1,\n",
    "           groupName  = 'zone_id'),\n",
    "       geometry  = im_zones_v1.geometry(),\n",
    "       scale     = 481,\n",
    "       maxPixels = 2.2e8).getInfo()['groups']\n",
    "    # {'groups': [{'zone_id': 1}, {'mean': 61, 'zone_id': 2}, {'mean': 40.145293103263604, 'zone_id': 3}, {'mean': 97.8158977279919, 'zone_id': 4}, {'zone_id': 5}, {'zone_id': 6}, {'zone_id': 7}, {'zone_id': 8}, {'zone_id': 9}, {'zone_id': 10}, {'zone_id': 11}]}\n",
    "\n",
    "    df = pd.DataFrame.from_records(means)\n",
    "    # print(df)\n",
    "    df.to_csv(means_csv, index = False)\n",
    "    \n",
    "sec_elapsed = time.time() - t0\n",
    "print(f'time elapsed: {sec_elapsed:.2f} sec')\n",
    "#  0:5: 5.24 sec \n",
    "# 0:20: 41.17 sec\n"
   ]
  },
  {
   "cell_type": "markdown",
   "id": "15267028",
   "metadata": {},
   "source": [
    "# Zonal stats per spp with `toBands()` & `FeatureCollection`"
   ]
  },
  {
   "cell_type": "code",
   "execution_count": null,
   "id": "8c8264de",
   "metadata": {},
   "outputs": [],
   "source": [
    "t0 = time.time()\n",
    "fc_zones = ee.FeatureCollection('projects/ee-offhab/assets/fc_zones')\n",
    "fc_zones_v1 = fc_zones.filter(ee.Filter.eq('zn_vrsn', 1))\n",
    "\n",
    "means_csv = f'{dir_csv}/sp_z_0to20.csv'\n",
    "ic_lyrs = ee.ImageCollection([ee.Image(x) for x in im_sp_ids[0:20]])\n",
    "im_lyrs = ic_lyrs.toBands()\n",
    "#print(im_lyrs.bandNames().getInfo())\n",
    "# ['am_100599_b1', 'am_1006979_b1', 'am_1007713_b1', 'am_100832_b1', 'am_100833_b1']\n",
    "\n",
    "# print(ic_lyrs.aggregate_array(\"system:id\").getInfo())\n",
    "\n",
    "r = im_lyrs.reduceRegions(\n",
    "    collection = fc_zones_v1.select('zone_ky'),\n",
    "    reducer    = ee.Reducer.mean(),\n",
    "    scale      = 481,\n",
    "    crs        = 'EPSG:4326').select(\n",
    "        propertySelectors = '.*', # ['zone_ky', 'am_100599_b1'],\n",
    "        retainGeometry = False).getInfo()\n",
    "r_df = pd.DataFrame.from_records([x['properties'] for x in r['features']])\n",
    "#print(r_df)\n",
    "r_df.to_csv(means_csv, index = False)\n",
    "\n",
    "sec_elapsed = time.time() - t0\n",
    "print(f'time elapsed: {sec_elapsed:.2f} sec')\n",
    "#  0:5: 125.65 sec\n",
    "# 0:20: 176.48 sec"
   ]
  },
  {
   "cell_type": "markdown",
   "id": "e3b4b1d4",
   "metadata": {},
   "source": [
    "## Extra Methods"
   ]
  },
  {
   "cell_type": "code",
   "execution_count": null,
   "id": "ea575ee6",
   "metadata": {},
   "outputs": [],
   "source": [
    "url = r.getDownloadURL(\n",
    "  filetype  = 'CSV',\n",
    "  selectors = ['zone_ky', 'am_100599_b1'],\n",
    "  filename  = 'lyr_zones_means.csv')\n",
    "print(url)"
   ]
  },
  {
   "cell_type": "code",
   "execution_count": null,
   "id": "d12b93ae",
   "metadata": {},
   "outputs": [],
   "source": [
    "task = ee.batch.Export.table.toDrive(\n",
    "  collection  = r_f,\n",
    "  description =  'r_f_2cols',\n",
    "  fileFormat  =  'CSV',\n",
    "  selectors   = ['zone_ky', 'am_100599_b1'])\n",
    "task.start()"
   ]
  },
  {
   "cell_type": "code",
   "execution_count": null,
   "id": "85f9f2d5",
   "metadata": {},
   "outputs": [],
   "source": [
    "# ImageCollection.map()\n",
    "def get_sp_zonal_stats(im_sp):\n",
    "    #lyr_key = im_sp.get('lyr_key').getInfo()\n",
    "    #means_csv = f'{dir_csv}/{lyr_key}.csv'\n",
    "    #print(f'{means_csv}')\n",
    "    im_sp_z = im_sp.addBands(ee.Image('projects/ee-offhab/assets/im_zones_v1'))\n",
    "    means = im_sp_z.reduceRegion(\n",
    "       reducer = ee.Reducer.mean().group(\n",
    "           groupField = 1,\n",
    "           groupName  = 'zone_id'),\n",
    "       #geometry  = im_sp.geometry(),\n",
    "       scale     = 481,\n",
    "       maxPixels = 2.2e8)\n",
    "    return means\n",
    "\n",
    "reduced = ic_lyrs.map(get_sp_zonal_stats).flatten()\n",
    "#.getInfo()['groups']\n",
    "# EEException: Collection.map: A mapped algorithm must return a Feature or Image."
   ]
  },
  {
   "cell_type": "code",
   "execution_count": null,
   "id": "dfa07780",
   "metadata": {},
   "outputs": [],
   "source": []
  }
 ],
 "metadata": {
  "kernelspec": {
   "display_name": "Python 3",
   "language": "python",
   "name": "python3"
  },
  "language_info": {
   "codemirror_mode": {
    "name": "ipython",
    "version": 3
   },
   "file_extension": ".py",
   "mimetype": "text/x-python",
   "name": "python",
   "nbconvert_exporter": "python",
   "pygments_lexer": "ipython3",
   "version": "3.11.1 (main, Dec 23 2022, 09:28:24) [Clang 14.0.0 (clang-1400.0.29.202)]"
  },
  "vscode": {
   "interpreter": {
    "hash": "5c7b89af1651d0b8571dde13640ecdccf7d5a6204171d6ab33e7c296e100e08a"
   }
  }
 },
 "nbformat": 4,
 "nbformat_minor": 5
}
