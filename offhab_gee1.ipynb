{
 "cells": [
  {
   "cell_type": "markdown",
   "id": "a02a3deb",
   "metadata": {},
   "source": [
    "# Setup\n",
    "\n",
    "Using [geemap docker](https://hub.docker.com/r/bkavlak/geemap)\n",
    "\n",
    "```bash\n",
    "# pull\n",
    "docker pull bkavlak/geemap:latest\n",
    "\n",
    "# check\n",
    "docker image ls\n",
    "\n",
    "# run\n",
    "docker run -it --name geemap -p 8888:8888 -p 6006:6006 -v '/Users/bbest/My Drive/projects/offhab/data/_geemap':/geemap/data bkavlak/geemap:latest bash\n",
    "```\n",
    "\n",
    "## Shutdown VM\n",
    "\n",
    "```bash\n",
    "docker stop geemap\n",
    "```\n",
    "\n",
    "## Restart VM\n",
    "\n",
    "```bash\n",
    "docker start geemap\n",
    "docker exec -it geemap bash\n",
    "\n",
    "# inside VM\n",
    "jupyter notebook --ip=0.0.0.0 --port=8888 --allow-root\n",
    "```\n",
    "visit displayed URL, eg http://127.0.0.1:8888/?token=4e18b4332bbf0a44267f18e111687c141dc1f15ec191236e"
   ]
  },
  {
   "cell_type": "code",
   "execution_count": null,
   "id": "a6288f12",
   "metadata": {},
   "outputs": [],
   "source": [
    "visit"
   ]
  },
  {
   "cell_type": "markdown",
   "id": "4f7467b4",
   "metadata": {},
   "source": [
    "# Prep"
   ]
  },
  {
   "cell_type": "markdown",
   "id": "b6383cec",
   "metadata": {},
   "source": [
    "TODO: get execution time per cell:\n",
    "* nbextensions: [execute\\_time](https://github.com/ipython-contrib/jupyter_contrib_nbextensions/tree/master/src/jupyter_contrib_nbextensions/nbextensions/execute_time)\n",
    "* [Installing jupyter\\_contrib\\_nbextensions](https://jupyter-contrib-nbextensions.readthedocs.io/en/latest/install.html)\n",
    "* [jupyter\\_nbextensions\\_configurator](https://github.com/Jupyter-contrib/jupyter_nbextensions_configurator)"
   ]
  },
  {
   "cell_type": "code",
   "execution_count": 140,
   "id": "a159ac42",
   "metadata": {},
   "outputs": [
    {
     "name": "stdout",
     "output_type": "stream",
     "text": [
      "Collecting jupyter_contrib_nbextensions\n",
      "  Downloading jupyter_contrib_nbextensions-0.7.0.tar.gz (23.5 MB)\n",
      "\u001b[2K     \u001b[90m━━━━━━━━━━━━━━━━━━━━━━━━━━━━━━━━━━━━━━━━\u001b[0m \u001b[32m23.5/23.5 MB\u001b[0m \u001b[31m18.5 MB/s\u001b[0m eta \u001b[36m0:00:00\u001b[0m00:01\u001b[0m00:01\u001b[0m\n",
      "\u001b[?25h  Preparing metadata (setup.py) ... \u001b[?25ldone\n",
      "\u001b[?25hRequirement already satisfied: ipython_genutils in /usr/local/lib/python3.8/dist-packages (from jupyter_contrib_nbextensions) (0.2.0)\n",
      "Collecting jupyter_contrib_core>=0.3.3\n",
      "  Downloading jupyter_contrib_core-0.4.2.tar.gz (17 kB)\n",
      "  Preparing metadata (setup.py) ... \u001b[?25ldone\n",
      "\u001b[?25hRequirement already satisfied: jupyter_core in /usr/local/lib/python3.8/dist-packages (from jupyter_contrib_nbextensions) (5.1.3)\n",
      "Collecting jupyter_highlight_selected_word>=0.1.1\n",
      "  Downloading jupyter_highlight_selected_word-0.2.0-py2.py3-none-any.whl (11 kB)\n",
      "Collecting jupyter_nbextensions_configurator>=0.4.0\n",
      "  Downloading jupyter_nbextensions_configurator-0.6.1.tar.gz (481 kB)\n",
      "\u001b[2K     \u001b[90m━━━━━━━━━━━━━━━━━━━━━━━━━━━━━━━━━━━━━━\u001b[0m \u001b[32m481.7/481.7 kB\u001b[0m \u001b[31m26.1 MB/s\u001b[0m eta \u001b[36m0:00:00\u001b[0m\n",
      "\u001b[?25h  Preparing metadata (setup.py) ... \u001b[?25ldone\n",
      "\u001b[?25hRequirement already satisfied: nbconvert>=6.0 in /usr/local/lib/python3.8/dist-packages (from jupyter_contrib_nbextensions) (7.2.7)\n",
      "Requirement already satisfied: notebook>=6.0 in /usr/local/lib/python3.8/dist-packages (from jupyter_contrib_nbextensions) (6.5.2)\n",
      "Requirement already satisfied: tornado in /usr/local/lib/python3.8/dist-packages (from jupyter_contrib_nbextensions) (6.2)\n",
      "Requirement already satisfied: traitlets>=4.1 in /usr/local/lib/python3.8/dist-packages (from jupyter_contrib_nbextensions) (5.8.1)\n",
      "Collecting lxml\n",
      "  Downloading lxml-4.9.2-cp38-cp38-manylinux_2_17_x86_64.manylinux2014_x86_64.manylinux_2_24_x86_64.whl (7.1 MB)\n",
      "\u001b[2K     \u001b[90m━━━━━━━━━━━━━━━━━━━━━━━━━━━━━━━━━━━━━━━━\u001b[0m \u001b[32m7.1/7.1 MB\u001b[0m \u001b[31m26.5 MB/s\u001b[0m eta \u001b[36m0:00:00\u001b[0m00:01\u001b[0m00:01\u001b[0m\n",
      "\u001b[?25hRequirement already satisfied: setuptools in /usr/local/lib/python3.8/dist-packages (from jupyter_contrib_core>=0.3.3->jupyter_contrib_nbextensions) (65.7.0)\n",
      "Collecting pyyaml\n",
      "  Downloading PyYAML-6.0-cp38-cp38-manylinux_2_5_x86_64.manylinux1_x86_64.manylinux_2_12_x86_64.manylinux2010_x86_64.whl (701 kB)\n",
      "\u001b[2K     \u001b[90m━━━━━━━━━━━━━━━━━━━━━━━━━━━━━━━━━━━━━━\u001b[0m \u001b[32m701.2/701.2 kB\u001b[0m \u001b[31m28.8 MB/s\u001b[0m eta \u001b[36m0:00:00\u001b[0m\n",
      "\u001b[?25hRequirement already satisfied: nbformat>=5.1 in /usr/local/lib/python3.8/dist-packages (from nbconvert>=6.0->jupyter_contrib_nbextensions) (5.7.2)\n",
      "Requirement already satisfied: jinja2>=3.0 in /usr/local/lib/python3.8/dist-packages (from nbconvert>=6.0->jupyter_contrib_nbextensions) (3.1.2)\n",
      "Requirement already satisfied: bleach in /usr/local/lib/python3.8/dist-packages (from nbconvert>=6.0->jupyter_contrib_nbextensions) (5.0.1)\n",
      "Requirement already satisfied: tinycss2 in /usr/local/lib/python3.8/dist-packages (from nbconvert>=6.0->jupyter_contrib_nbextensions) (1.2.1)\n",
      "Requirement already satisfied: packaging in /usr/local/lib/python3.8/dist-packages (from nbconvert>=6.0->jupyter_contrib_nbextensions) (23.0)\n",
      "Requirement already satisfied: importlib-metadata>=3.6 in /usr/local/lib/python3.8/dist-packages (from nbconvert>=6.0->jupyter_contrib_nbextensions) (6.0.0)\n",
      "Requirement already satisfied: markupsafe>=2.0 in /usr/local/lib/python3.8/dist-packages (from nbconvert>=6.0->jupyter_contrib_nbextensions) (2.1.1)\n",
      "Requirement already satisfied: mistune<3,>=2.0.3 in /usr/local/lib/python3.8/dist-packages (from nbconvert>=6.0->jupyter_contrib_nbextensions) (2.0.4)\n",
      "Requirement already satisfied: pandocfilters>=1.4.1 in /usr/local/lib/python3.8/dist-packages (from nbconvert>=6.0->jupyter_contrib_nbextensions) (1.5.0)\n",
      "Requirement already satisfied: pygments>=2.4.1 in /usr/local/lib/python3.8/dist-packages (from nbconvert>=6.0->jupyter_contrib_nbextensions) (2.14.0)\n",
      "Requirement already satisfied: jupyterlab-pygments in /usr/local/lib/python3.8/dist-packages (from nbconvert>=6.0->jupyter_contrib_nbextensions) (0.2.2)\n",
      "Requirement already satisfied: beautifulsoup4 in /usr/local/lib/python3.8/dist-packages (from nbconvert>=6.0->jupyter_contrib_nbextensions) (4.11.1)\n",
      "Requirement already satisfied: nbclient>=0.5.0 in /usr/local/lib/python3.8/dist-packages (from nbconvert>=6.0->jupyter_contrib_nbextensions) (0.7.2)\n",
      "Requirement already satisfied: defusedxml in /usr/local/lib/python3.8/dist-packages (from nbconvert>=6.0->jupyter_contrib_nbextensions) (0.7.1)\n",
      "Requirement already satisfied: platformdirs>=2.5 in /usr/local/lib/python3.8/dist-packages (from jupyter_core->jupyter_contrib_nbextensions) (2.6.2)\n",
      "Requirement already satisfied: argon2-cffi in /usr/local/lib/python3.8/dist-packages (from notebook>=6.0->jupyter_contrib_nbextensions) (21.3.0)\n",
      "Requirement already satisfied: nbclassic>=0.4.7 in /usr/local/lib/python3.8/dist-packages (from notebook>=6.0->jupyter_contrib_nbextensions) (0.4.8)\n",
      "Requirement already satisfied: jupyter-client>=5.3.4 in /usr/local/lib/python3.8/dist-packages (from notebook>=6.0->jupyter_contrib_nbextensions) (7.4.8)\n",
      "Requirement already satisfied: ipykernel in /usr/local/lib/python3.8/dist-packages (from notebook>=6.0->jupyter_contrib_nbextensions) (6.20.1)\n",
      "Requirement already satisfied: nest-asyncio>=1.5 in /usr/local/lib/python3.8/dist-packages (from notebook>=6.0->jupyter_contrib_nbextensions) (1.5.6)\n",
      "Requirement already satisfied: Send2Trash>=1.8.0 in /usr/local/lib/python3.8/dist-packages (from notebook>=6.0->jupyter_contrib_nbextensions) (1.8.0)\n",
      "Requirement already satisfied: prometheus-client in /usr/local/lib/python3.8/dist-packages (from notebook>=6.0->jupyter_contrib_nbextensions) (0.15.0)\n",
      "Requirement already satisfied: terminado>=0.8.3 in /usr/local/lib/python3.8/dist-packages (from notebook>=6.0->jupyter_contrib_nbextensions) (0.17.1)\n",
      "Requirement already satisfied: pyzmq>=17 in /usr/local/lib/python3.8/dist-packages (from notebook>=6.0->jupyter_contrib_nbextensions) (24.0.1)\n",
      "Requirement already satisfied: zipp>=0.5 in /usr/local/lib/python3.8/dist-packages (from importlib-metadata>=3.6->nbconvert>=6.0->jupyter_contrib_nbextensions) (3.11.0)\n",
      "Requirement already satisfied: python-dateutil>=2.8.2 in /usr/local/lib/python3.8/dist-packages (from jupyter-client>=5.3.4->notebook>=6.0->jupyter_contrib_nbextensions) (2.8.2)\n",
      "Requirement already satisfied: entrypoints in /usr/local/lib/python3.8/dist-packages (from jupyter-client>=5.3.4->notebook>=6.0->jupyter_contrib_nbextensions) (0.4)\n",
      "Requirement already satisfied: jupyter-server>=1.8 in /usr/local/lib/python3.8/dist-packages (from nbclassic>=0.4.7->notebook>=6.0->jupyter_contrib_nbextensions) (1.23.4)\n",
      "Requirement already satisfied: notebook-shim>=0.1.0 in /usr/local/lib/python3.8/dist-packages (from nbclassic>=0.4.7->notebook>=6.0->jupyter_contrib_nbextensions) (0.2.2)\n",
      "Requirement already satisfied: fastjsonschema in /usr/local/lib/python3.8/dist-packages (from nbformat>=5.1->nbconvert>=6.0->jupyter_contrib_nbextensions) (2.16.2)\n",
      "Requirement already satisfied: jsonschema>=2.6 in /usr/local/lib/python3.8/dist-packages (from nbformat>=5.1->nbconvert>=6.0->jupyter_contrib_nbextensions) (4.17.3)\n",
      "Requirement already satisfied: ptyprocess in /usr/local/lib/python3.8/dist-packages (from terminado>=0.8.3->notebook>=6.0->jupyter_contrib_nbextensions) (0.7.0)\n",
      "Requirement already satisfied: argon2-cffi-bindings in /usr/local/lib/python3.8/dist-packages (from argon2-cffi->notebook>=6.0->jupyter_contrib_nbextensions) (21.2.0)\n",
      "Requirement already satisfied: soupsieve>1.2 in /usr/local/lib/python3.8/dist-packages (from beautifulsoup4->nbconvert>=6.0->jupyter_contrib_nbextensions) (2.3.2.post1)\n",
      "Requirement already satisfied: webencodings in /usr/local/lib/python3.8/dist-packages (from bleach->nbconvert>=6.0->jupyter_contrib_nbextensions) (0.5.1)\n",
      "Requirement already satisfied: six>=1.9.0 in /usr/lib/python3/dist-packages (from bleach->nbconvert>=6.0->jupyter_contrib_nbextensions) (1.14.0)\n",
      "Requirement already satisfied: ipython>=7.23.1 in /usr/local/lib/python3.8/dist-packages (from ipykernel->notebook>=6.0->jupyter_contrib_nbextensions) (8.8.0)\n",
      "Requirement already satisfied: psutil in /usr/local/lib/python3.8/dist-packages (from ipykernel->notebook>=6.0->jupyter_contrib_nbextensions) (5.9.4)\n",
      "Requirement already satisfied: comm>=0.1.1 in /usr/local/lib/python3.8/dist-packages (from ipykernel->notebook>=6.0->jupyter_contrib_nbextensions) (0.1.2)\n",
      "Requirement already satisfied: debugpy>=1.0 in /usr/local/lib/python3.8/dist-packages (from ipykernel->notebook>=6.0->jupyter_contrib_nbextensions) (1.6.5)\n",
      "Requirement already satisfied: matplotlib-inline>=0.1 in /usr/local/lib/python3.8/dist-packages (from ipykernel->notebook>=6.0->jupyter_contrib_nbextensions) (0.1.6)\n",
      "Requirement already satisfied: decorator in /usr/local/lib/python3.8/dist-packages (from ipython>=7.23.1->ipykernel->notebook>=6.0->jupyter_contrib_nbextensions) (5.1.1)\n",
      "Requirement already satisfied: jedi>=0.16 in /usr/local/lib/python3.8/dist-packages (from ipython>=7.23.1->ipykernel->notebook>=6.0->jupyter_contrib_nbextensions) (0.18.2)\n",
      "Requirement already satisfied: prompt-toolkit<3.1.0,>=3.0.11 in /usr/local/lib/python3.8/dist-packages (from ipython>=7.23.1->ipykernel->notebook>=6.0->jupyter_contrib_nbextensions) (3.0.36)\n",
      "Requirement already satisfied: pexpect>4.3 in /usr/local/lib/python3.8/dist-packages (from ipython>=7.23.1->ipykernel->notebook>=6.0->jupyter_contrib_nbextensions) (4.8.0)\n",
      "Requirement already satisfied: backcall in /usr/local/lib/python3.8/dist-packages (from ipython>=7.23.1->ipykernel->notebook>=6.0->jupyter_contrib_nbextensions) (0.2.0)\n",
      "Requirement already satisfied: stack-data in /usr/local/lib/python3.8/dist-packages (from ipython>=7.23.1->ipykernel->notebook>=6.0->jupyter_contrib_nbextensions) (0.6.2)\n",
      "Requirement already satisfied: pickleshare in /usr/local/lib/python3.8/dist-packages (from ipython>=7.23.1->ipykernel->notebook>=6.0->jupyter_contrib_nbextensions) (0.7.5)\n",
      "Requirement already satisfied: pkgutil-resolve-name>=1.3.10 in /usr/local/lib/python3.8/dist-packages (from jsonschema>=2.6->nbformat>=5.1->nbconvert>=6.0->jupyter_contrib_nbextensions) (1.3.10)\n",
      "Requirement already satisfied: importlib-resources>=1.4.0 in /usr/local/lib/python3.8/dist-packages (from jsonschema>=2.6->nbformat>=5.1->nbconvert>=6.0->jupyter_contrib_nbextensions) (5.10.2)\n",
      "Requirement already satisfied: attrs>=17.4.0 in /usr/local/lib/python3.8/dist-packages (from jsonschema>=2.6->nbformat>=5.1->nbconvert>=6.0->jupyter_contrib_nbextensions) (22.2.0)\n",
      "Requirement already satisfied: pyrsistent!=0.17.0,!=0.17.1,!=0.17.2,>=0.14.0 in /usr/local/lib/python3.8/dist-packages (from jsonschema>=2.6->nbformat>=5.1->nbconvert>=6.0->jupyter_contrib_nbextensions) (0.19.3)\n",
      "Requirement already satisfied: anyio<4,>=3.1.0 in /usr/local/lib/python3.8/dist-packages (from jupyter-server>=1.8->nbclassic>=0.4.7->notebook>=6.0->jupyter_contrib_nbextensions) (3.6.2)\n",
      "Requirement already satisfied: websocket-client in /usr/local/lib/python3.8/dist-packages (from jupyter-server>=1.8->nbclassic>=0.4.7->notebook>=6.0->jupyter_contrib_nbextensions) (1.4.2)\n",
      "Requirement already satisfied: cffi>=1.0.1 in /usr/local/lib/python3.8/dist-packages (from argon2-cffi-bindings->argon2-cffi->notebook>=6.0->jupyter_contrib_nbextensions) (1.15.1)\n",
      "Requirement already satisfied: sniffio>=1.1 in /usr/local/lib/python3.8/dist-packages (from anyio<4,>=3.1.0->jupyter-server>=1.8->nbclassic>=0.4.7->notebook>=6.0->jupyter_contrib_nbextensions) (1.3.0)\n",
      "Requirement already satisfied: idna>=2.8 in /usr/lib/python3/dist-packages (from anyio<4,>=3.1.0->jupyter-server>=1.8->nbclassic>=0.4.7->notebook>=6.0->jupyter_contrib_nbextensions) (2.8)\n",
      "Requirement already satisfied: pycparser in /usr/local/lib/python3.8/dist-packages (from cffi>=1.0.1->argon2-cffi-bindings->argon2-cffi->notebook>=6.0->jupyter_contrib_nbextensions) (2.21)\n",
      "Requirement already satisfied: parso<0.9.0,>=0.8.0 in /usr/local/lib/python3.8/dist-packages (from jedi>=0.16->ipython>=7.23.1->ipykernel->notebook>=6.0->jupyter_contrib_nbextensions) (0.8.3)\n",
      "Requirement already satisfied: wcwidth in /usr/local/lib/python3.8/dist-packages (from prompt-toolkit<3.1.0,>=3.0.11->ipython>=7.23.1->ipykernel->notebook>=6.0->jupyter_contrib_nbextensions) (0.2.5)\n",
      "Requirement already satisfied: executing>=1.2.0 in /usr/local/lib/python3.8/dist-packages (from stack-data->ipython>=7.23.1->ipykernel->notebook>=6.0->jupyter_contrib_nbextensions) (1.2.0)\n",
      "Requirement already satisfied: pure-eval in /usr/local/lib/python3.8/dist-packages (from stack-data->ipython>=7.23.1->ipykernel->notebook>=6.0->jupyter_contrib_nbextensions) (0.2.2)\n",
      "Requirement already satisfied: asttokens>=2.1.0 in /usr/local/lib/python3.8/dist-packages (from stack-data->ipython>=7.23.1->ipykernel->notebook>=6.0->jupyter_contrib_nbextensions) (2.2.1)\n",
      "Building wheels for collected packages: jupyter_contrib_nbextensions, jupyter_contrib_core, jupyter_nbextensions_configurator\n",
      "  Building wheel for jupyter_contrib_nbextensions (setup.py) ... \u001b[?25ldone\n",
      "\u001b[?25h  Created wheel for jupyter_contrib_nbextensions: filename=jupyter_contrib_nbextensions-0.7.0-py2.py3-none-any.whl size=23428784 sha256=3587e4cd918f57d51ae1785f1155270683b717944556ef703967ef3dfa3c07a8\n",
      "  Stored in directory: /root/.cache/pip/wheels/23/ec/b4/0c45261d7b7c9da78d6cde312a3be8d3501b9516963c0692c4\n",
      "  Building wheel for jupyter_contrib_core (setup.py) ... \u001b[?25ldone\n",
      "\u001b[?25h  Created wheel for jupyter_contrib_core: filename=jupyter_contrib_core-0.4.2-py2.py3-none-any.whl size=17485 sha256=d58f372d6ca6250bb5b0e055740f59657a84ead6f4a5e34ae24d7c42196a8c0d\n",
      "  Stored in directory: /root/.cache/pip/wheels/1b/ce/d7/b67b5bd8995b58735f7d121867682a36fc7927efb18775f0d7\n",
      "  Building wheel for jupyter_nbextensions_configurator (setup.py) ... \u001b[?25ldone\n",
      "\u001b[?25h  Created wheel for jupyter_nbextensions_configurator: filename=jupyter_nbextensions_configurator-0.6.1-py2.py3-none-any.whl size=466844 sha256=e005a2963b65801f689baa5b2c0d6f487f004b62b69eff03790ac541afc34e3b\n",
      "  Stored in directory: /root/.cache/pip/wheels/38/98/78/2484170c5fd4d5163e032fb2b4c056b7f2aff966b2f78e966c\n",
      "Successfully built jupyter_contrib_nbextensions jupyter_contrib_core jupyter_nbextensions_configurator\n",
      "Installing collected packages: jupyter_highlight_selected_word, pyyaml, lxml, jupyter_contrib_core, jupyter_nbextensions_configurator, jupyter_contrib_nbextensions\n",
      "Successfully installed jupyter_contrib_core-0.4.2 jupyter_contrib_nbextensions-0.7.0 jupyter_highlight_selected_word-0.2.0 jupyter_nbextensions_configurator-0.6.1 lxml-4.9.2 pyyaml-6.0\n",
      "\u001b[33mWARNING: Running pip as the 'root' user can result in broken permissions and conflicting behaviour with the system package manager. It is recommended to use a virtual environment instead: https://pip.pypa.io/warnings/venv\u001b[0m\u001b[33m\n",
      "\u001b[0m\n",
      "\u001b[1m[\u001b[0m\u001b[34;49mnotice\u001b[0m\u001b[1;39;49m]\u001b[0m\u001b[39;49m A new release of pip available: \u001b[0m\u001b[31;49m22.3.1\u001b[0m\u001b[39;49m -> \u001b[0m\u001b[32;49m23.0.1\u001b[0m\n",
      "\u001b[1m[\u001b[0m\u001b[34;49mnotice\u001b[0m\u001b[1;39;49m]\u001b[0m\u001b[39;49m To update, run: \u001b[0m\u001b[32;49mpython3 -m pip install --upgrade pip\u001b[0m\n"
     ]
    }
   ],
   "source": [
    "!pip install jupyter_contrib_nbextensions"
   ]
  },
  {
   "cell_type": "code",
   "execution_count": 142,
   "id": "8275436e",
   "metadata": {},
   "outputs": [
    {
     "name": "stdout",
     "output_type": "stream",
     "text": [
      "Requirement already satisfied: jupyter_nbextensions_configurator in /usr/local/lib/python3.8/dist-packages (0.6.1)\n",
      "Requirement already satisfied: notebook>=6.0 in /usr/local/lib/python3.8/dist-packages (from jupyter_nbextensions_configurator) (6.5.2)\n",
      "Requirement already satisfied: tornado in /usr/local/lib/python3.8/dist-packages (from jupyter_nbextensions_configurator) (6.2)\n",
      "Requirement already satisfied: jupyter-contrib-core>=0.3.3 in /usr/local/lib/python3.8/dist-packages (from jupyter_nbextensions_configurator) (0.4.2)\n",
      "Requirement already satisfied: jupyter-core in /usr/local/lib/python3.8/dist-packages (from jupyter_nbextensions_configurator) (5.1.3)\n",
      "Requirement already satisfied: pyyaml in /usr/local/lib/python3.8/dist-packages (from jupyter_nbextensions_configurator) (6.0)\n",
      "Requirement already satisfied: traitlets in /usr/local/lib/python3.8/dist-packages (from jupyter_nbextensions_configurator) (5.8.1)\n",
      "Requirement already satisfied: setuptools in /usr/local/lib/python3.8/dist-packages (from jupyter-contrib-core>=0.3.3->jupyter_nbextensions_configurator) (65.7.0)\n",
      "Requirement already satisfied: nest-asyncio>=1.5 in /usr/local/lib/python3.8/dist-packages (from notebook>=6.0->jupyter_nbextensions_configurator) (1.5.6)\n",
      "Requirement already satisfied: nbconvert>=5 in /usr/local/lib/python3.8/dist-packages (from notebook>=6.0->jupyter_nbextensions_configurator) (7.2.7)\n",
      "Requirement already satisfied: Send2Trash>=1.8.0 in /usr/local/lib/python3.8/dist-packages (from notebook>=6.0->jupyter_nbextensions_configurator) (1.8.0)\n",
      "Requirement already satisfied: terminado>=0.8.3 in /usr/local/lib/python3.8/dist-packages (from notebook>=6.0->jupyter_nbextensions_configurator) (0.17.1)\n",
      "Requirement already satisfied: jupyter-client>=5.3.4 in /usr/local/lib/python3.8/dist-packages (from notebook>=6.0->jupyter_nbextensions_configurator) (7.4.8)\n",
      "Requirement already satisfied: nbformat in /usr/local/lib/python3.8/dist-packages (from notebook>=6.0->jupyter_nbextensions_configurator) (5.7.2)\n",
      "Requirement already satisfied: ipython-genutils in /usr/local/lib/python3.8/dist-packages (from notebook>=6.0->jupyter_nbextensions_configurator) (0.2.0)\n",
      "Requirement already satisfied: prometheus-client in /usr/local/lib/python3.8/dist-packages (from notebook>=6.0->jupyter_nbextensions_configurator) (0.15.0)\n",
      "Requirement already satisfied: jinja2 in /usr/local/lib/python3.8/dist-packages (from notebook>=6.0->jupyter_nbextensions_configurator) (3.1.2)\n",
      "Requirement already satisfied: ipykernel in /usr/local/lib/python3.8/dist-packages (from notebook>=6.0->jupyter_nbextensions_configurator) (6.20.1)\n",
      "Requirement already satisfied: nbclassic>=0.4.7 in /usr/local/lib/python3.8/dist-packages (from notebook>=6.0->jupyter_nbextensions_configurator) (0.4.8)\n",
      "Requirement already satisfied: argon2-cffi in /usr/local/lib/python3.8/dist-packages (from notebook>=6.0->jupyter_nbextensions_configurator) (21.3.0)\n",
      "Requirement already satisfied: pyzmq>=17 in /usr/local/lib/python3.8/dist-packages (from notebook>=6.0->jupyter_nbextensions_configurator) (24.0.1)\n",
      "Requirement already satisfied: platformdirs>=2.5 in /usr/local/lib/python3.8/dist-packages (from jupyter-core->jupyter_nbextensions_configurator) (2.6.2)\n",
      "Requirement already satisfied: python-dateutil>=2.8.2 in /usr/local/lib/python3.8/dist-packages (from jupyter-client>=5.3.4->notebook>=6.0->jupyter_nbextensions_configurator) (2.8.2)\n",
      "Requirement already satisfied: entrypoints in /usr/local/lib/python3.8/dist-packages (from jupyter-client>=5.3.4->notebook>=6.0->jupyter_nbextensions_configurator) (0.4)\n",
      "Requirement already satisfied: jupyter-server>=1.8 in /usr/local/lib/python3.8/dist-packages (from nbclassic>=0.4.7->notebook>=6.0->jupyter_nbextensions_configurator) (1.23.4)\n",
      "Requirement already satisfied: notebook-shim>=0.1.0 in /usr/local/lib/python3.8/dist-packages (from nbclassic>=0.4.7->notebook>=6.0->jupyter_nbextensions_configurator) (0.2.2)\n",
      "Requirement already satisfied: defusedxml in /usr/local/lib/python3.8/dist-packages (from nbconvert>=5->notebook>=6.0->jupyter_nbextensions_configurator) (0.7.1)\n",
      "Requirement already satisfied: nbclient>=0.5.0 in /usr/local/lib/python3.8/dist-packages (from nbconvert>=5->notebook>=6.0->jupyter_nbextensions_configurator) (0.7.2)\n",
      "Requirement already satisfied: pandocfilters>=1.4.1 in /usr/local/lib/python3.8/dist-packages (from nbconvert>=5->notebook>=6.0->jupyter_nbextensions_configurator) (1.5.0)\n",
      "Requirement already satisfied: mistune<3,>=2.0.3 in /usr/local/lib/python3.8/dist-packages (from nbconvert>=5->notebook>=6.0->jupyter_nbextensions_configurator) (2.0.4)\n",
      "Requirement already satisfied: markupsafe>=2.0 in /usr/local/lib/python3.8/dist-packages (from nbconvert>=5->notebook>=6.0->jupyter_nbextensions_configurator) (2.1.1)\n",
      "Requirement already satisfied: importlib-metadata>=3.6 in /usr/local/lib/python3.8/dist-packages (from nbconvert>=5->notebook>=6.0->jupyter_nbextensions_configurator) (6.0.0)\n",
      "Requirement already satisfied: beautifulsoup4 in /usr/local/lib/python3.8/dist-packages (from nbconvert>=5->notebook>=6.0->jupyter_nbextensions_configurator) (4.11.1)\n",
      "Requirement already satisfied: jupyterlab-pygments in /usr/local/lib/python3.8/dist-packages (from nbconvert>=5->notebook>=6.0->jupyter_nbextensions_configurator) (0.2.2)\n",
      "Requirement already satisfied: pygments>=2.4.1 in /usr/local/lib/python3.8/dist-packages (from nbconvert>=5->notebook>=6.0->jupyter_nbextensions_configurator) (2.14.0)\n",
      "Requirement already satisfied: tinycss2 in /usr/local/lib/python3.8/dist-packages (from nbconvert>=5->notebook>=6.0->jupyter_nbextensions_configurator) (1.2.1)\n",
      "Requirement already satisfied: bleach in /usr/local/lib/python3.8/dist-packages (from nbconvert>=5->notebook>=6.0->jupyter_nbextensions_configurator) (5.0.1)\n",
      "Requirement already satisfied: packaging in /usr/local/lib/python3.8/dist-packages (from nbconvert>=5->notebook>=6.0->jupyter_nbextensions_configurator) (23.0)\n",
      "Requirement already satisfied: fastjsonschema in /usr/local/lib/python3.8/dist-packages (from nbformat->notebook>=6.0->jupyter_nbextensions_configurator) (2.16.2)\n",
      "Requirement already satisfied: jsonschema>=2.6 in /usr/local/lib/python3.8/dist-packages (from nbformat->notebook>=6.0->jupyter_nbextensions_configurator) (4.17.3)\n",
      "Requirement already satisfied: ptyprocess in /usr/local/lib/python3.8/dist-packages (from terminado>=0.8.3->notebook>=6.0->jupyter_nbextensions_configurator) (0.7.0)\n",
      "Requirement already satisfied: argon2-cffi-bindings in /usr/local/lib/python3.8/dist-packages (from argon2-cffi->notebook>=6.0->jupyter_nbextensions_configurator) (21.2.0)\n",
      "Requirement already satisfied: ipython>=7.23.1 in /usr/local/lib/python3.8/dist-packages (from ipykernel->notebook>=6.0->jupyter_nbextensions_configurator) (8.8.0)\n",
      "Requirement already satisfied: debugpy>=1.0 in /usr/local/lib/python3.8/dist-packages (from ipykernel->notebook>=6.0->jupyter_nbextensions_configurator) (1.6.5)\n",
      "Requirement already satisfied: psutil in /usr/local/lib/python3.8/dist-packages (from ipykernel->notebook>=6.0->jupyter_nbextensions_configurator) (5.9.4)\n",
      "Requirement already satisfied: comm>=0.1.1 in /usr/local/lib/python3.8/dist-packages (from ipykernel->notebook>=6.0->jupyter_nbextensions_configurator) (0.1.2)\n",
      "Requirement already satisfied: matplotlib-inline>=0.1 in /usr/local/lib/python3.8/dist-packages (from ipykernel->notebook>=6.0->jupyter_nbextensions_configurator) (0.1.6)\n",
      "Requirement already satisfied: zipp>=0.5 in /usr/local/lib/python3.8/dist-packages (from importlib-metadata>=3.6->nbconvert>=5->notebook>=6.0->jupyter_nbextensions_configurator) (3.11.0)\n",
      "Requirement already satisfied: stack-data in /usr/local/lib/python3.8/dist-packages (from ipython>=7.23.1->ipykernel->notebook>=6.0->jupyter_nbextensions_configurator) (0.6.2)\n",
      "Requirement already satisfied: jedi>=0.16 in /usr/local/lib/python3.8/dist-packages (from ipython>=7.23.1->ipykernel->notebook>=6.0->jupyter_nbextensions_configurator) (0.18.2)\n",
      "Requirement already satisfied: prompt-toolkit<3.1.0,>=3.0.11 in /usr/local/lib/python3.8/dist-packages (from ipython>=7.23.1->ipykernel->notebook>=6.0->jupyter_nbextensions_configurator) (3.0.36)\n",
      "Requirement already satisfied: pickleshare in /usr/local/lib/python3.8/dist-packages (from ipython>=7.23.1->ipykernel->notebook>=6.0->jupyter_nbextensions_configurator) (0.7.5)\n",
      "Requirement already satisfied: backcall in /usr/local/lib/python3.8/dist-packages (from ipython>=7.23.1->ipykernel->notebook>=6.0->jupyter_nbextensions_configurator) (0.2.0)\n",
      "Requirement already satisfied: pexpect>4.3 in /usr/local/lib/python3.8/dist-packages (from ipython>=7.23.1->ipykernel->notebook>=6.0->jupyter_nbextensions_configurator) (4.8.0)\n",
      "Requirement already satisfied: decorator in /usr/local/lib/python3.8/dist-packages (from ipython>=7.23.1->ipykernel->notebook>=6.0->jupyter_nbextensions_configurator) (5.1.1)\n",
      "Requirement already satisfied: pyrsistent!=0.17.0,!=0.17.1,!=0.17.2,>=0.14.0 in /usr/local/lib/python3.8/dist-packages (from jsonschema>=2.6->nbformat->notebook>=6.0->jupyter_nbextensions_configurator) (0.19.3)\n",
      "Requirement already satisfied: attrs>=17.4.0 in /usr/local/lib/python3.8/dist-packages (from jsonschema>=2.6->nbformat->notebook>=6.0->jupyter_nbextensions_configurator) (22.2.0)\n",
      "Requirement already satisfied: importlib-resources>=1.4.0 in /usr/local/lib/python3.8/dist-packages (from jsonschema>=2.6->nbformat->notebook>=6.0->jupyter_nbextensions_configurator) (5.10.2)\n",
      "Requirement already satisfied: pkgutil-resolve-name>=1.3.10 in /usr/local/lib/python3.8/dist-packages (from jsonschema>=2.6->nbformat->notebook>=6.0->jupyter_nbextensions_configurator) (1.3.10)\n",
      "Requirement already satisfied: anyio<4,>=3.1.0 in /usr/local/lib/python3.8/dist-packages (from jupyter-server>=1.8->nbclassic>=0.4.7->notebook>=6.0->jupyter_nbextensions_configurator) (3.6.2)\n",
      "Requirement already satisfied: websocket-client in /usr/local/lib/python3.8/dist-packages (from jupyter-server>=1.8->nbclassic>=0.4.7->notebook>=6.0->jupyter_nbextensions_configurator) (1.4.2)\n",
      "Requirement already satisfied: six>=1.5 in /usr/lib/python3/dist-packages (from python-dateutil>=2.8.2->jupyter-client>=5.3.4->notebook>=6.0->jupyter_nbextensions_configurator) (1.14.0)\n",
      "Requirement already satisfied: cffi>=1.0.1 in /usr/local/lib/python3.8/dist-packages (from argon2-cffi-bindings->argon2-cffi->notebook>=6.0->jupyter_nbextensions_configurator) (1.15.1)\n",
      "Requirement already satisfied: soupsieve>1.2 in /usr/local/lib/python3.8/dist-packages (from beautifulsoup4->nbconvert>=5->notebook>=6.0->jupyter_nbextensions_configurator) (2.3.2.post1)\n",
      "Requirement already satisfied: webencodings in /usr/local/lib/python3.8/dist-packages (from bleach->nbconvert>=5->notebook>=6.0->jupyter_nbextensions_configurator) (0.5.1)\n",
      "Requirement already satisfied: idna>=2.8 in /usr/lib/python3/dist-packages (from anyio<4,>=3.1.0->jupyter-server>=1.8->nbclassic>=0.4.7->notebook>=6.0->jupyter_nbextensions_configurator) (2.8)\n",
      "Requirement already satisfied: sniffio>=1.1 in /usr/local/lib/python3.8/dist-packages (from anyio<4,>=3.1.0->jupyter-server>=1.8->nbclassic>=0.4.7->notebook>=6.0->jupyter_nbextensions_configurator) (1.3.0)\n",
      "Requirement already satisfied: pycparser in /usr/local/lib/python3.8/dist-packages (from cffi>=1.0.1->argon2-cffi-bindings->argon2-cffi->notebook>=6.0->jupyter_nbextensions_configurator) (2.21)\n",
      "Requirement already satisfied: parso<0.9.0,>=0.8.0 in /usr/local/lib/python3.8/dist-packages (from jedi>=0.16->ipython>=7.23.1->ipykernel->notebook>=6.0->jupyter_nbextensions_configurator) (0.8.3)\n",
      "Requirement already satisfied: wcwidth in /usr/local/lib/python3.8/dist-packages (from prompt-toolkit<3.1.0,>=3.0.11->ipython>=7.23.1->ipykernel->notebook>=6.0->jupyter_nbextensions_configurator) (0.2.5)\n",
      "Requirement already satisfied: executing>=1.2.0 in /usr/local/lib/python3.8/dist-packages (from stack-data->ipython>=7.23.1->ipykernel->notebook>=6.0->jupyter_nbextensions_configurator) (1.2.0)\n",
      "Requirement already satisfied: pure-eval in /usr/local/lib/python3.8/dist-packages (from stack-data->ipython>=7.23.1->ipykernel->notebook>=6.0->jupyter_nbextensions_configurator) (0.2.2)\n",
      "Requirement already satisfied: asttokens>=2.1.0 in /usr/local/lib/python3.8/dist-packages (from stack-data->ipython>=7.23.1->ipykernel->notebook>=6.0->jupyter_nbextensions_configurator) (2.2.1)\n",
      "\u001b[33mWARNING: Running pip as the 'root' user can result in broken permissions and conflicting behaviour with the system package manager. It is recommended to use a virtual environment instead: https://pip.pypa.io/warnings/venv\u001b[0m\u001b[33m\n",
      "\u001b[0m"
     ]
    }
   ],
   "source": [
    "!pip install jupyter_nbextensions_configurator"
   ]
  },
  {
   "cell_type": "code",
   "execution_count": 139,
   "id": "dfcfe499",
   "metadata": {},
   "outputs": [
    {
     "name": "stdout",
     "output_type": "stream",
     "text": [
      "pip 22.3.1 from /usr/local/lib/python3.8/dist-packages/pip (python 3.8)\r\n"
     ]
    }
   ],
   "source": [
    "!pip --version"
   ]
  },
  {
   "cell_type": "code",
   "execution_count": 141,
   "id": "4c414624",
   "metadata": {},
   "outputs": [
    {
     "name": "stdout",
     "output_type": "stream",
     "text": [
      "Requirement already satisfied: pip in /usr/local/lib/python3.8/dist-packages (22.3.1)\n",
      "Collecting pip\n",
      "  Downloading pip-23.0.1-py3-none-any.whl (2.1 MB)\n",
      "\u001b[2K     \u001b[90m━━━━━━━━━━━━━━━━━━━━━━━━━━━━━━━━━━━━━━━━\u001b[0m \u001b[32m2.1/2.1 MB\u001b[0m \u001b[31m13.2 MB/s\u001b[0m eta \u001b[36m0:00:00\u001b[0ma \u001b[36m0:00:01\u001b[0m\n",
      "\u001b[?25hInstalling collected packages: pip\n",
      "  Attempting uninstall: pip\n",
      "    Found existing installation: pip 22.3.1\n",
      "    Uninstalling pip-22.3.1:\n",
      "      Successfully uninstalled pip-22.3.1\n",
      "Successfully installed pip-23.0.1\n",
      "\u001b[33mWARNING: Running pip as the 'root' user can result in broken permissions and conflicting behaviour with the system package manager. It is recommended to use a virtual environment instead: https://pip.pypa.io/warnings/venv\u001b[0m\u001b[33m\n",
      "\u001b[0m"
     ]
    }
   ],
   "source": [
    "!python3 -m pip install --upgrade pip"
   ]
  },
  {
   "cell_type": "markdown",
   "id": "93238455",
   "metadata": {},
   "source": [
    "# Initialize"
   ]
  },
  {
   "cell_type": "code",
   "execution_count": 7,
   "id": "418c115f",
   "metadata": {},
   "outputs": [],
   "source": [
    "import ee\n",
    "\n",
    "ee.Initialize()"
   ]
  },
  {
   "cell_type": "code",
   "execution_count": 134,
   "id": "75a7ac20",
   "metadata": {},
   "outputs": [],
   "source": [
    "import geemap\n",
    "import pandas as pd\n",
    "import os\n",
    "import time\n",
    "\n",
    "# get image of zones\n",
    "im_zones_v1 = ee.Image('projects/ee-offhab/assets/im_zones_v1')\n",
    "\n",
    "# get image of zones, web-optimized version\n",
    "im_zones_web = ee.Image(\"projects/ee-offhab/assets/lyrs_aphia_web/oh_zones_v1_web\")\n",
    "im_mask_web = im_zones_web.gt(0)\n",
    "\n",
    "# get imagecollection of taxa layers, web-optimized COGs\n",
    "ic_aphia_web_path = 'projects/ee-offhab/assets/lyrs_aphia_web'\n",
    "ic_aphia_web = ee.ImageCollection(ic_aphia_web_path)\n",
    "\n",
    "# get image_ids\n",
    "ic_aphia_web_ids = ic_aphia_web.aggregate_array(\"system:id\").getInfo()\n",
    "\n",
    "# get featurecollection of study area, eg to clip output\n",
    "f_study_v1 = ee.FeatureCollection('projects/ee-offhab/assets/oh_study_v1')"
   ]
  },
  {
   "cell_type": "code",
   "execution_count": 24,
   "id": "a5122763",
   "metadata": {},
   "outputs": [
    {
     "name": "stdout",
     "output_type": "stream",
     "text": [
      "web_scale in meters 611.49622628141\n"
     ]
    }
   ],
   "source": [
    "# use this scale number when sampling\n",
    "web_scale = ic_aphia_web.first().projection().nominalScale().getInfo();\n",
    "print('web_scale in meters:', web_scale);"
   ]
  },
  {
   "cell_type": "markdown",
   "id": "f75f967d",
   "metadata": {},
   "source": [
    "# Calculate Spp Abundance"
   ]
  },
  {
   "cell_type": "code",
   "execution_count": 52,
   "id": "3257cd9a",
   "metadata": {},
   "outputs": [],
   "source": [
    "im_aphia_sa = ic_aphia_web.sum()"
   ]
  },
  {
   "cell_type": "code",
   "execution_count": 137,
   "id": "b1aa95f4",
   "metadata": {},
   "outputs": [],
   "source": [
    "im_aphia_sa = im_aphia_sa.updateMask(im_mask_web).toFloat()\n",
    "task = ee.batch.Export.image.toCloudStorage(\n",
    "    im_aphia_sa,\n",
    "    description    = 'gee_sa_web', \n",
    "    bucket         = 'offhab_lyrs', \n",
    "    scale          = web_scale, \n",
    "    crs            = 'EPSG:3857',\n",
    "    region         = im_mask_web.geometry(),\n",
    "    maxPixels      = 1e13,\n",
    "    shardSize      = 512,\n",
    "    skipEmptyTiles = True,\n",
    "    formatOptions  = {\n",
    "        'cloudOptimized': True})\n",
    "task.start() # 6:13pm"
   ]
  },
  {
   "cell_type": "markdown",
   "id": "47217845",
   "metadata": {},
   "source": [
    "# Calculate Species Richness"
   ]
  },
  {
   "cell_type": "code",
   "execution_count": 123,
   "id": "64ecc526",
   "metadata": {},
   "outputs": [],
   "source": [
    "def image_to_presence(im, gt_threshold=0):\n",
    "    return(im.gt(gt_threshold))\n",
    "\n",
    "ic_aphia_sp = ic_aphia_web.map(image_to_presence).sum().updateMask(im_mask_web).toFloat()\n",
    "# [composites have no projection](https://developers.google.com/earth-engine/guides/ic_reducing#composites-have-no-projection)"
   ]
  },
  {
   "cell_type": "code",
   "execution_count": 129,
   "id": "8c77a61a",
   "metadata": {},
   "outputs": [],
   "source": [
    "im_aphia_web_presence_export = im_aphia_web_presence.updateMask(im_mask_web).toFloat()"
   ]
  },
  {
   "cell_type": "code",
   "execution_count": 130,
   "id": "02dd408a",
   "metadata": {},
   "outputs": [],
   "source": [
    "task = ee.batch.Export.image.toCloudStorage(\n",
    "    ic_aphia_sp, \n",
    "    description = 'gee_sp_web', \n",
    "    bucket         = 'offhab_lyrs', \n",
    "    scale          = web_scale, \n",
    "    crs            = 'EPSG:3857',\n",
    "    region         = im_mask_web.geometry(),\n",
    "    maxPixels      = 1e13,\n",
    "    shardSize      = 512,\n",
    "    skipEmptyTiles = True,\n",
    "    formatOptions  = {\n",
    "        'cloudOptimized': True})\n",
    "task.start() # 6:13pm"
   ]
  },
  {
   "cell_type": "markdown",
   "id": "edd5850b",
   "metadata": {},
   "source": [
    "# Other"
   ]
  },
  {
   "cell_type": "markdown",
   "id": "2ca60a6f",
   "metadata": {},
   "source": [
    "useful reference, but not used in analysis"
   ]
  },
  {
   "cell_type": "markdown",
   "id": "cd78db9e",
   "metadata": {},
   "source": [
    "## Map an Image"
   ]
  },
  {
   "cell_type": "code",
   "execution_count": 36,
   "id": "12058694",
   "metadata": {},
   "outputs": [],
   "source": [
    "im_sp = ee.Image(im_sp_ids[0])"
   ]
  },
  {
   "cell_type": "markdown",
   "id": "a4628b18",
   "metadata": {},
   "source": [
    "### Static Map"
   ]
  },
  {
   "cell_type": "code",
   "execution_count": 37,
   "id": "ba1f1001",
   "metadata": {},
   "outputs": [
    {
     "data": {
      "image/png": "[encoded data removed]",
      "text/plain": [
       "<IPython.core.display.Image object>"
      ]
     },
     "execution_count": 37,
     "metadata": {},
     "output_type": "execute_result"
    }
   ],
   "source": [
    "# static map\n",
    "url = im_sp.getThumbUrl({\n",
    "    'scale': web_scale*10, # 'dimensions': [800,800],\n",
    "    'format': 'png'})\n",
    "# print(url)\n",
    "from IPython.display import Image\n",
    "Image(url=url, embed=True, format='png')"
   ]
  },
  {
   "cell_type": "markdown",
   "id": "0d478e72",
   "metadata": {},
   "source": [
    "## Interactive Map"
   ]
  },
  {
   "cell_type": "code",
   "execution_count": 91,
   "id": "911c6404",
   "metadata": {},
   "outputs": [
    {
     "data": {
      "application/vnd.jupyter.widget-view+json": {
       "model_id": "2e862ef8713b408a8b73057de3444a9e",
       "version_major": 2,
       "version_minor": 0
      },
      "text/plain": [
       "Map(center=[45, -104], controls=(WidgetControl(options=['position', 'transparent_bg'], widget=HBox(children=(T…"
      ]
     },
     "metadata": {},
     "output_type": "display_data"
    }
   ],
   "source": [
    "import geemap\n",
    "\n",
    "Map = geemap.Map(center=(45, -104), zoom=4)\n",
    "Map"
   ]
  },
  {
   "cell_type": "code",
   "execution_count": 89,
   "id": "1852ba3e",
   "metadata": {},
   "outputs": [],
   "source": [
    "pal_viridis = ['fde725', '5ec962', '21918c', '3b528b', '440154'] # viridis\n",
    "vizparams_0to100 = {'min': 0, 'max': 100, 'palette': pal_viridis};\n",
    "\n",
    "Map.addLayer(im_sp, vizparams_0to100, os.path.basename(im_sp_ids[0]), True, 0.5)"
   ]
  },
  {
   "cell_type": "code",
   "execution_count": 92,
   "id": "de009e5f",
   "metadata": {},
   "outputs": [],
   "source": [
    "vizparams_sa = {'min': 35, 'max': 529766, 'palette': pal_viridis}\n",
    "Map.addLayer(im_aphia_sa, vizparams_sa, 'sa', True, 0.5)"
   ]
  },
  {
   "cell_type": "code",
   "execution_count": 73,
   "id": "873e5057",
   "metadata": {},
   "outputs": [
    {
     "data": {
      "text/plain": [
       "61149.622628141005"
      ]
     },
     "execution_count": 73,
     "metadata": {},
     "output_type": "execute_result"
    }
   ],
   "source": [
    "web_scale * 100"
   ]
  },
  {
   "cell_type": "code",
   "execution_count": 103,
   "id": "6dd5fb0c",
   "metadata": {},
   "outputs": [],
   "source": [
    "geo_us48 = ee.Geometry.Polygon([[\n",
    "  [-130, 23],\n",
    "  [-64, 23],\n",
    "  [-64, 49],\n",
    "  [-130, 49],\n",
    "  [-130, 23]\n",
    "]])\n",
    "\n",
    "# A small region within the image.\n",
    "bbox_us48 = ee.Geometry.BBox(-130, 23, -64, 49)"
   ]
  },
  {
   "cell_type": "markdown",
   "id": "f42d5e7e",
   "metadata": {},
   "source": [
    "# Calculate image min/max\n",
    "\n",
    "This method is SLOW! Since it recalculates original. Better to export to TIF and get range of values in R."
   ]
  },
  {
   "cell_type": "code",
   "execution_count": 85,
   "id": "57dd3d29",
   "metadata": {},
   "outputs": [],
   "source": [
    "im_aphia_sa_minmax = im_aphia_sa.reduceRegion(\n",
    "  reducer    = ee.Reducer.minMax(),\n",
    "  geometry   = geo_us48, #'geometry': im_aphia_sa.geometry(),\n",
    "  bestEffort = True,\n",
    "  scale      = 61150,\n",
    "  maxPixels  = 1e13).getInfo()\n",
    "print(im_aphia_sa_minmax) # {'b1_max': 529766, 'b1_min': 35}"
   ]
  },
  {
   "cell_type": "code",
   "execution_count": 86,
   "id": "30cc236a",
   "metadata": {},
   "outputs": [
    {
     "name": "stdout",
     "output_type": "stream",
     "text": [
      "{'b1_max': 529766, 'b1_min': 35}\n"
     ]
    }
   ],
   "source": [
    "print(im_aphia_sa_minmax) # {'b1_max': 529766, 'b1_min': 35}"
   ]
  },
  {
   "cell_type": "markdown",
   "id": "2cba2d04",
   "metadata": {},
   "source": [
    "# Export"
   ]
  },
  {
   "cell_type": "code",
   "execution_count": 56,
   "id": "e0918510",
   "metadata": {},
   "outputs": [
    {
     "data": {
      "image/png": "[encoded data removed]",
      "text/plain": [
       "<IPython.core.display.Image object>"
      ]
     },
     "execution_count": 56,
     "metadata": {},
     "output_type": "execute_result"
    }
   ],
   "source": [
    "# static map\n",
    "url = im_aphia_sa.getThumbUrl({\n",
    "    'scale': web_scale*100, # 'dimensions': [800,800],\n",
    "    'format': 'png'})\n",
    "# print(url)\n",
    "from IPython.display import Image\n",
    "Image(url=url, embed=True, format='png')"
   ]
  },
  {
   "cell_type": "code",
   "execution_count": null,
   "id": "0847c968",
   "metadata": {},
   "outputs": [],
   "source": [
    "# Export a cloud-optimized GeoTIFF.\n",
    "Export.image.toDrive({\n",
    "  image: landsat,\n",
    "  description: 'imageToCOGeoTiffExample',\n",
    "  crs: projection.crs,\n",
    "  crsTransform: projection.transform,\n",
    "  region: geometry,\n",
    "  fileFormat: 'GeoTIFF',\n",
    "  formatOptions: {\n",
    "    cloudOptimized: true\n",
    "  }\n",
    "});"
   ]
  },
  {
   "cell_type": "code",
   "execution_count": 107,
   "id": "c1200d84",
   "metadata": {},
   "outputs": [],
   "source": [
    "geemap.ee_export_image_to_drive(\n",
    "    im_aphia_sa_dbl, description='geemap-grdrive_species-abundance.', folder='ee_exports', scale=web_scale)"
   ]
  },
  {
   "cell_type": "code",
   "execution_count": 115,
   "id": "698a9934",
   "metadata": {},
   "outputs": [],
   "source": [
    "# test web presence1\n",
    "im_aphia_web_presence1 = image_to_presence(ic_aphia_web.first())\n",
    "vizparams_0to1 = {'min': 0, 'max': 1, 'palette': pal_viridis}\n",
    "Map.addLayer(im_aphia_web_presence1, vizparams_0to1, 'presence1', True, 0.5)"
   ]
  },
  {
   "cell_type": "code",
   "execution_count": 131,
   "id": "53fadd99",
   "metadata": {},
   "outputs": [
    {
     "name": "stderr",
     "output_type": "stream",
     "text": [
      "\n",
      "KeyboardInterrupt\n",
      "\n"
     ]
    }
   ],
   "source": [
    "im_aphia_sp_minmax = im_aphia_web_presence_mask_dbl.reduceRegion(\n",
    "  reducer    = ee.Reducer.minMax(),\n",
    "  geometry   = im_mask_web.geometry(), #'geometry': im_aphia_sa.geometry(),\n",
    "  bestEffort = True,\n",
    "  scale      = web_scale,\n",
    "  maxPixels  = 1e13).getInfo()\n",
    "print(im_aphia_sp_minmax) # 4:30 pm"
   ]
  },
  {
   "cell_type": "code",
   "execution_count": 102,
   "id": "0d9c0da1",
   "metadata": {},
   "outputs": [
    {
     "name": "stdout",
     "output_type": "stream",
     "text": [
      "Generating URL ...\n",
      "An error occurred while downloading.\n",
      "Total request size (799508592 bytes) must be less than or equal to 50331648 bytes.\n"
     ]
    }
   ],
   "source": [
    "geemap.ee_export_image(\n",
    "    im_aphia_sa_dbl, \n",
    "    filename      = '/Users/bbest/Downloads/geemap_species-abundance.tif', \n",
    "    scale         = web_scale,\n",
    "    crs           = 'EPSG:3857',\n",
    "    region        = geom_us48,\n",
    "    file_per_band = False)\n",
    "# 799508592 bytes: Total request size\n",
    "#  50331648 bytes: must be less than or equal to ."
   ]
  },
  {
   "cell_type": "code",
   "execution_count": 104,
   "id": "db940b65",
   "metadata": {},
   "outputs": [
    {
     "data": {
      "text/html": [
       "<div><style>:root {\n",
       "  --font-color-primary: var(--jp-content-font-color0, rgba(0, 0, 0, 1));\n",
       "  --font-color-secondary: var(--jp-content-font-color2, rgba(0, 0, 0, 0.6));\n",
       "  --font-color-accent: rgba(123, 31, 162, 1);\n",
       "  --border-color: var(--jp-border-color2, #e0e0e0);\n",
       "  --background-color: var(--jp-layout-color0, white);\n",
       "  --background-color-row-even: var(--jp-layout-color1, white);\n",
       "  --background-color-row-odd: var(--jp-layout-color2, #eeeeee);\n",
       "}\n",
       "\n",
       "html[theme=\"dark\"],\n",
       "body[data-theme=\"dark\"],\n",
       "body.vscode-dark {\n",
       "  --font-color-primary: rgba(255, 255, 255, 1);\n",
       "  --font-color-secondary: rgba(255, 255, 255, 0.6);\n",
       "  --font-color-accent: rgb(173, 132, 190);\n",
       "  --border-color: #2e2e2e;\n",
       "  --background-color: #111111;\n",
       "  --background-color-row-even: #111111;\n",
       "  --background-color-row-odd: #313131;\n",
       "}\n",
       "\n",
       ".ee {\n",
       "  padding: 1em;\n",
       "  line-height: 1.5em;\n",
       "  min-width: 300px;\n",
       "  max-width: 1200px;\n",
       "  overflow-y: scroll;\n",
       "  max-height: 600px;\n",
       "  border: 1px solid var(--border-color);\n",
       "  font-family: monospace;\n",
       "}\n",
       "\n",
       ".ee li {\n",
       "  list-style-type: none;\n",
       "}\n",
       "\n",
       ".ee ul {\n",
       "  padding-left: 1.5em !important;\n",
       "  margin: 0;\n",
       "}\n",
       "\n",
       ".ee > ul {\n",
       "  padding-left: 0 !important;\n",
       "}\n",
       "\n",
       ".ee-open,\n",
       ".ee-shut {\n",
       "  color: var(--font-color-secondary);\n",
       "  cursor: pointer;\n",
       "  margin: 0;\n",
       "}\n",
       "\n",
       ".ee-open:hover,\n",
       ".ee-shut:hover {\n",
       "  color: var(--font-color-primary);\n",
       "}\n",
       "\n",
       ".ee-k {\n",
       "  color: var(--font-color-accent);\n",
       "  margin-right: 6px;\n",
       "}\n",
       "\n",
       ".ee-v {\n",
       "  color: var(--font-color-primary);\n",
       "}\n",
       "\n",
       ".ee-toggle {\n",
       "  display: none;\n",
       "}\n",
       "\n",
       ".ee-shut + ul {\n",
       "  display: none;\n",
       "}\n",
       "\n",
       ".ee-open + ul {\n",
       "  display: block;\n",
       "}\n",
       "\n",
       ".ee-shut::before {\n",
       "  display: inline-block;\n",
       "  content: \"▼\";\n",
       "  margin-right: 6px;\n",
       "  transform: rotate(-90deg);\n",
       "  transition: transform 0.2s;\n",
       "}\n",
       "\n",
       ".ee-open::before {\n",
       "  transform: rotate(0deg);\n",
       "  display: inline-block;\n",
       "  content: \"▼\";\n",
       "  margin-right: 6px;\n",
       "  transition: transform 0.2s;\n",
       "}\n",
       "</style><div class='ee'><ul><li><label class='ee-shut'>['b1']<input type='checkbox' class='ee-toggle'></label><ul><li><span class='ee-k'>0:</span><span class='ee-v'>b1</span></li></ul></li></ul></div><script>function toggleHeader() {\n",
       "    const parent = this.parentElement;\n",
       "    parent.className = parent.className === \"ee-open\" ? \"ee-shut\" : \"ee-open\";\n",
       "}\n",
       "\n",
       "for (let c of document.getElementsByClassName(\"ee-toggle\")) {\n",
       "    c.onclick = toggleHeader;\n",
       "}</script></div>"
      ],
      "text/plain": [
       "<ee.ee_list.List at 0x4077eb1f40>"
      ]
     },
     "execution_count": 104,
     "metadata": {},
     "output_type": "execute_result"
    }
   ],
   "source": [
    "im_aphia_sa_dbl.bandNames()"
   ]
  },
  {
   "cell_type": "code",
   "execution_count": null,
   "id": "04718e74",
   "metadata": {},
   "outputs": [],
   "source": [
    "Map.addLayer(im_sp, sp_viz_params, os.path.basename(im_sp_ids[0]), True, 0.5)"
   ]
  },
  {
   "cell_type": "markdown",
   "id": "4fc11b5b",
   "metadata": {},
   "source": [
    "# Zonal stats per spp with `for` loop"
   ]
  },
  {
   "cell_type": "code",
   "execution_count": 95,
   "id": "c2c796e9",
   "metadata": {},
   "outputs": [
    {
     "name": "stdout",
     "output_type": "stream",
     "text": [
      "0: /geemap/data/am_100599.csv\n",
      "1: /geemap/data/am_1006979.csv\n",
      "2: /geemap/data/am_1007713.csv\n",
      "3: /geemap/data/am_100832.csv\n",
      "4: /geemap/data/am_100833.csv\n",
      "5: /geemap/data/am_100834.csv\n",
      "6: /geemap/data/am_100838.csv\n",
      "7: /geemap/data/am_100839.csv\n",
      "8: /geemap/data/am_100841.csv\n",
      "9: /geemap/data/am_100842.csv\n",
      "10: /geemap/data/am_100854.csv\n",
      "11: /geemap/data/am_100862.csv\n",
      "12: /geemap/data/am_100872.csv\n",
      "13: /geemap/data/am_100930.csv\n",
      "14: /geemap/data/am_100933.csv\n",
      "15: /geemap/data/am_100954.csv\n",
      "16: /geemap/data/am_100966.csv\n",
      "17: /geemap/data/am_100982.csv\n",
      "18: /geemap/data/am_101021.csv\n",
      "19: /geemap/data/am_101036.csv\n",
      "time elapsed: 41.17 sec\n"
     ]
    }
   ],
   "source": [
    "dir_csv = '/geemap/data'\n",
    "\n",
    "t0 = time.time()\n",
    "# iterate over images\n",
    "for i in range(0,20):  # i=1 \n",
    "    im_sp_id = im_sp_ids[i]\n",
    "    im_sp = ee.Image(im_sp_id)\n",
    "\n",
    "    lyr_key = os.path.basename(im_sp_id)\n",
    "    #print(lyr_key) # am_1006979\n",
    "\n",
    "    means_csv = f'{dir_csv}/{lyr_key}.csv'\n",
    "    print(f'{i}: {means_csv}')\n",
    "\n",
    "    im_sp_z = im_sp.addBands(im_zones_v1)\n",
    "    #print(img_z.bandNames().getInfo()) # ['b1', 'b1_1'] # TODO: rename band\n",
    "\n",
    "    # Grouped a mean reducer: change of nightlights by land cover category.\n",
    "    means = im_sp_z.reduceRegion(\n",
    "       reducer = ee.Reducer.mean().group(\n",
    "           groupField = 1,\n",
    "           groupName  = 'zone_id'),\n",
    "       geometry  = im_zones_v1.geometry(),\n",
    "       scale     = 481,\n",
    "       maxPixels = 2.2e8).getInfo()['groups']\n",
    "    # {'groups': [{'zone_id': 1}, {'mean': 61, 'zone_id': 2}, {'mean': 40.145293103263604, 'zone_id': 3}, {'mean': 97.8158977279919, 'zone_id': 4}, {'zone_id': 5}, {'zone_id': 6}, {'zone_id': 7}, {'zone_id': 8}, {'zone_id': 9}, {'zone_id': 10}, {'zone_id': 11}]}\n",
    "\n",
    "    df = pd.DataFrame.from_records(means)\n",
    "    # print(df)\n",
    "    df.to_csv(means_csv, index = False)\n",
    "    \n",
    "sec_elapsed = time.time() - t0\n",
    "print(f'time elapsed: {sec_elapsed:.2f} sec')\n",
    "#  0:5: 5.24 sec \n",
    "# 0:20: 41.17 sec\n"
   ]
  },
  {
   "cell_type": "markdown",
   "id": "15267028",
   "metadata": {},
   "source": [
    "# Zonal stats per spp with `toBands()` & `FeatureCollection`"
   ]
  },
  {
   "cell_type": "code",
   "execution_count": 97,
   "id": "8c8264de",
   "metadata": {},
   "outputs": [
    {
     "name": "stdout",
     "output_type": "stream",
     "text": [
      "time elapsed: 176.48 sec\n"
     ]
    }
   ],
   "source": [
    "t0 = time.time()\n",
    "fc_zones = ee.FeatureCollection('projects/ee-offhab/assets/fc_zones')\n",
    "fc_zones_v1 = fc_zones.filter(ee.Filter.eq('zn_vrsn', 1))\n",
    "\n",
    "means_csv = f'{dir_csv}/sp_z_0to20.csv'\n",
    "ic_lyrs = ee.ImageCollection([ee.Image(x) for x in im_sp_ids[0:20]])\n",
    "im_lyrs = ic_lyrs.toBands()\n",
    "#print(im_lyrs.bandNames().getInfo())\n",
    "# ['am_100599_b1', 'am_1006979_b1', 'am_1007713_b1', 'am_100832_b1', 'am_100833_b1']\n",
    "\n",
    "# print(ic_lyrs.aggregate_array(\"system:id\").getInfo())\n",
    "\n",
    "r = im_lyrs.reduceRegions(\n",
    "    collection = fc_zones_v1.select('zone_ky'),\n",
    "    reducer    = ee.Reducer.mean(),\n",
    "    scale      = 481,\n",
    "    crs        = 'EPSG:4326').select(\n",
    "        propertySelectors = '.*', # ['zone_ky', 'am_100599_b1'],\n",
    "        retainGeometry = False).getInfo()\n",
    "r_df = pd.DataFrame.from_records([x['properties'] for x in r['features']])\n",
    "#print(r_df)\n",
    "r_df.to_csv(means_csv, index = False)\n",
    "\n",
    "sec_elapsed = time.time() - t0\n",
    "print(f'time elapsed: {sec_elapsed:.2f} sec')\n",
    "#  0:5: 125.65 sec\n",
    "# 0:20: 176.48 sec"
   ]
  },
  {
   "cell_type": "markdown",
   "id": "e3b4b1d4",
   "metadata": {},
   "source": [
    "## Extra Methods"
   ]
  },
  {
   "cell_type": "code",
   "execution_count": 38,
   "id": "ea575ee6",
   "metadata": {},
   "outputs": [
    {
     "name": "stdout",
     "output_type": "stream",
     "text": [
      "https://earthengine.googleapis.com/v1alpha/projects/earthengine-legacy/tables/645dd94a984094529e1d14d214d7b383-47912123b32e3968f04a0436016324b4:getFeatures\n"
     ]
    }
   ],
   "source": [
    "url = r.getDownloadURL(\n",
    "  filetype  = 'CSV',\n",
    "  selectors = ['zone_ky', 'am_100599_b1'],\n",
    "  filename  = 'lyr_zones_means.csv')\n",
    "print(url)"
   ]
  },
  {
   "cell_type": "code",
   "execution_count": null,
   "id": "d12b93ae",
   "metadata": {},
   "outputs": [],
   "source": [
    "task = ee.batch.Export.table.toDrive(\n",
    "  collection  = r_f,\n",
    "  description =  'r_f_2cols',\n",
    "  fileFormat  =  'CSV',\n",
    "  selectors   = ['zone_ky', 'am_100599_b1'])\n",
    "task.start()"
   ]
  },
  {
   "cell_type": "code",
   "execution_count": null,
   "id": "85f9f2d5",
   "metadata": {},
   "outputs": [],
   "source": [
    "# ImageCollection.map()\n",
    "def get_sp_zonal_stats(im_sp):\n",
    "    #lyr_key = im_sp.get('lyr_key').getInfo()\n",
    "    #means_csv = f'{dir_csv}/{lyr_key}.csv'\n",
    "    #print(f'{means_csv}')\n",
    "    im_sp_z = im_sp.addBands(ee.Image('projects/ee-offhab/assets/im_zones_v1'))\n",
    "    means = im_sp_z.reduceRegion(\n",
    "       reducer = ee.Reducer.mean().group(\n",
    "           groupField = 1,\n",
    "           groupName  = 'zone_id'),\n",
    "       #geometry  = im_sp.geometry(),\n",
    "       scale     = 481,\n",
    "       maxPixels = 2.2e8)\n",
    "    return means\n",
    "\n",
    "reduced = ic_lyrs.map(get_sp_zonal_stats).flatten()\n",
    "#.getInfo()['groups']\n",
    "# EEException: Collection.map: A mapped algorithm must return a Feature or Image."
   ]
  },
  {
   "cell_type": "code",
   "execution_count": null,
   "id": "dfa07780",
   "metadata": {},
   "outputs": [],
   "source": []
  }
 ],
 "metadata": {
  "kernelspec": {
   "display_name": "Python 3 (ipykernel)",
   "language": "python",
   "name": "python3"
  },
  "language_info": {
   "codemirror_mode": {
    "name": "ipython",
    "version": 3
   },
   "file_extension": ".py",
   "mimetype": "text/x-python",
   "name": "python",
   "nbconvert_exporter": "python",
   "pygments_lexer": "ipython3",
   "version": "3.8.10"
  }
 },
 "nbformat": 4,
 "nbformat_minor": 5
}
